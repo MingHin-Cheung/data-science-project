{
 "cells": [
  {
   "cell_type": "markdown",
   "metadata": {},
   "source": [
    "# Data Cleaning / Pre-processing"
   ]
  },
  {
   "cell_type": "code",
   "execution_count": 1,
   "metadata": {},
   "outputs": [],
   "source": [
    "import pandas as pd\n",
    "import numpy as np\n",
    "\n",
    "import warnings\n",
    "warnings.filterwarnings('ignore')"
   ]
  },
  {
   "cell_type": "markdown",
   "metadata": {},
   "source": [
    "# About Data "
   ]
  },
  {
   "cell_type": "markdown",
   "metadata": {},
   "source": [
    "- The data we're going to use can be accessed here: https://data.cityofnewyork.us/Public-Safety/Motor-Vehicle-Collisions-Crashes/h9gi-nx95 \n",
    "- It is about Motor Vehicle Collisions crash. Each row represents a crash event. The Motor Vehicle Collisions data contains information from all police reported motor vehicle collisions in NYC. It has about 600,000 rows and 29 columns."
   ]
  },
  {
   "cell_type": "markdown",
   "metadata": {},
   "source": [
    "# Data Cleaning / Processing"
   ]
  },
  {
   "cell_type": "markdown",
   "metadata": {},
   "source": [
    "- As the dataset is huge, we're going to take 50,000 random samples from it to ease our process and to make it efficient for this task.\n",
    "- Also, there are a number of features that we actually don't need for our problem. Hence, we have to drop those features since they will be having no effect on our output. \n",
    "- Finally, comes the part of dealing with the missing values. Since some of the features contain alot of missing values (including our target feature), we will have to fix them. Starting from our target feature, since it is a categorical feature and our dataset is huge, so we're simply going to drop missing values in our target variable.\n",
    "- After that, we're going to compute missing values for the test of our features. Since our data contains no outliers at all, we will fill all the missing values using the mean strategy.\n",
    "- After that, we will fix the datatype of each column."
   ]
  },
  {
   "cell_type": "code",
   "execution_count": null,
   "metadata": {},
   "outputs": [],
   "source": [
    "#importing our dataset\n",
    "df = pd.read_csv(\"Motor_Vehicle_Collisions_-_Crashes.csv\")"
   ]
  },
  {
   "cell_type": "code",
   "execution_count": null,
   "metadata": {},
   "outputs": [],
   "source": [
    "df.head()"
   ]
  },
  {
   "cell_type": "code",
   "execution_count": null,
   "metadata": {},
   "outputs": [],
   "source": [
    "df.shape"
   ]
  },
  {
   "cell_type": "code",
   "execution_count": null,
   "metadata": {},
   "outputs": [],
   "source": [
    "df.info()"
   ]
  },
  {
   "cell_type": "code",
   "execution_count": null,
   "metadata": {},
   "outputs": [],
   "source": [
    "#Taking 50,000 random samples from our data.\n",
    "df = df.sample(n=50000)"
   ]
  },
  {
   "cell_type": "code",
   "execution_count": null,
   "metadata": {},
   "outputs": [],
   "source": [
    "#Checking the shape of our data\n",
    "df.shape"
   ]
  },
  {
   "cell_type": "code",
   "execution_count": null,
   "metadata": {},
   "outputs": [],
   "source": [
    "#Statistical summary of our data\n",
    "df.describe()"
   ]
  },
  {
   "cell_type": "code",
   "execution_count": null,
   "metadata": {},
   "outputs": [],
   "source": [
    "#Checking for missing values\n",
    "df.isnull().sum()"
   ]
  },
  {
   "cell_type": "code",
   "execution_count": null,
   "metadata": {},
   "outputs": [],
   "source": [
    "#Keeping only the required features\n",
    "columns = [\"CRASH DATE\", \"CRASH TIME\", \"BOROUGH\", \"LATITUDE\", \"LONGITUDE\", \"NUMBER OF PERSONS INJURED\",\\\n",
    "          \"NUMBER OF PERSONS KILLED\",\"NUMBER OF PEDESTRIANS INJURED\", \"NUMBER OF PEDESTRIANS KILLED\",\\\n",
    "          \"NUMBER OF CYCLIST INJURED\", \"NUMBER OF CYCLIST KILLED\", \"NUMBER OF MOTORIST INJURED\",\\\n",
    "          \"NUMBER OF MOTORIST KILLED\"]"
   ]
  },
  {
   "cell_type": "code",
   "execution_count": null,
   "metadata": {},
   "outputs": [],
   "source": [
    "#Keeping only the required features in our dataset\n",
    "df = df[columns]"
   ]
  },
  {
   "cell_type": "code",
   "execution_count": null,
   "metadata": {},
   "outputs": [],
   "source": [
    "df.dropna(subset=[\"BOROUGH\"], inplace=True)\n",
    "df.shape"
   ]
  },
  {
   "cell_type": "code",
   "execution_count": null,
   "metadata": {},
   "outputs": [],
   "source": [
    "#Checking for outliers\n",
    "print(\"Mean of Latitude: \", df[\"LATITUDE\"].mean())\n",
    "print(\"Median of Latitude: \", df[\"LATITUDE\"].median())\n",
    "print(\"\\nSince both the values are approx. same, it means there are no outliers in latitude & longitude.\")"
   ]
  },
  {
   "cell_type": "code",
   "execution_count": null,
   "metadata": {},
   "outputs": [],
   "source": [
    "#Filling missing values\n",
    "df[\"LATITUDE\"].fillna(df[\"LATITUDE\"].mean(), inplace=True)\n",
    "df[\"LONGITUDE\"].fillna(df[\"LONGITUDE\"].mean(), inplace=True)\n",
    "df.dropna(inplace=True)"
   ]
  },
  {
   "cell_type": "code",
   "execution_count": null,
   "metadata": {},
   "outputs": [],
   "source": [
    "#Checking again for missing values\n",
    "df.isnull().sum()"
   ]
  },
  {
   "cell_type": "code",
   "execution_count": null,
   "metadata": {},
   "outputs": [],
   "source": [
    "#Fixing the datatype\n",
    "df[\"LATITUDE\"] = df[\"LATITUDE\"].astype(\"float64\")\n",
    "df[\"LONGITUDE\"] = df[\"LONGITUDE\"].astype(\"float64\")"
   ]
  },
  {
   "cell_type": "code",
   "execution_count": null,
   "metadata": {},
   "outputs": [],
   "source": [
    "#Saving our cleaned data in a csv file\n",
    "df.to_csv(\"cleaned_data.csv\")"
   ]
  }
 ],
 "metadata": {
  "kernelspec": {
   "display_name": "Python 3",
   "language": "python",
   "name": "python3"
  },
  "language_info": {
   "codemirror_mode": {
    "name": "ipython",
    "version": 3
   },
   "file_extension": ".py",
   "mimetype": "text/x-python",
   "name": "python",
   "nbconvert_exporter": "python",
   "pygments_lexer": "ipython3",
   "version": "3.8.8"
  }
 },
 "nbformat": 4,
 "nbformat_minor": 4
}
